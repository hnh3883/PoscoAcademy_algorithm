{
 "cells": [
  {
   "cell_type": "markdown",
   "id": "c352cabf",
   "metadata": {},
   "source": [
    "# A + B (1)"
   ]
  },
  {
   "cell_type": "code",
   "execution_count": 6,
   "id": "89894cce",
   "metadata": {},
   "outputs": [
    {
     "name": "stdout",
     "output_type": "stream",
     "text": [
      "100 1000\n",
      "1100\n"
     ]
    }
   ],
   "source": [
    "# A + B\n",
    "A, B = input().split(' ')\n",
    "print(int(A)+int(B))"
   ]
  },
  {
   "cell_type": "code",
   "execution_count": 7,
   "id": "165146c3",
   "metadata": {},
   "outputs": [
    {
     "name": "stdout",
     "output_type": "stream",
     "text": [
      "2 3\n",
      "5\n",
      "100 5564\n",
      "5664\n"
     ]
    }
   ],
   "source": [
    "# 조교님 정답\n",
    "# ver1\n",
    "a, b = input().split()\n",
    "print(int(a) + int(b))\n",
    "# ver2\n",
    "a, b = map(int, input().split())\n",
    "print(a+b)"
   ]
  },
  {
   "cell_type": "markdown",
   "id": "8c7fb65b",
   "metadata": {},
   "source": [
    "# A + B (2)"
   ]
  },
  {
   "cell_type": "code",
   "execution_count": 14,
   "id": "17954fbc",
   "metadata": {},
   "outputs": [
    {
     "name": "stdout",
     "output_type": "stream",
     "text": [
      "3\n",
      "2 8\n",
      "10\n",
      "-7 2\n",
      "-5\n",
      "23 -10\n",
      "13\n"
     ]
    }
   ],
   "source": [
    "count = int(input())\n",
    "\n",
    "while count > 0:\n",
    "    a, b = map(int, input().split())\n",
    "    print(a+b)\n",
    "    count -= 1"
   ]
  },
  {
   "cell_type": "code",
   "execution_count": 15,
   "id": "53be8279",
   "metadata": {},
   "outputs": [
    {
     "name": "stdout",
     "output_type": "stream",
     "text": [
      "3\n",
      "2 8\n",
      "10\n",
      "-7 2\n",
      "-5\n",
      "23 -10\n",
      "13\n"
     ]
    }
   ],
   "source": [
    "# 조교님 정답\n",
    "# ver1\n",
    "t = int(input())\n",
    "for _ in range(t):\n",
    "    a, b = map(int, input().split())\n",
    "    print(a+b)"
   ]
  },
  {
   "cell_type": "markdown",
   "id": "22045522",
   "metadata": {},
   "source": [
    "# 리스트의 합"
   ]
  },
  {
   "cell_type": "code",
   "execution_count": 16,
   "id": "9e9129c1",
   "metadata": {},
   "outputs": [
    {
     "name": "stdout",
     "output_type": "stream",
     "text": [
      "3\n",
      "1 5 9 11 12\n",
      "38\n",
      "0 1 0 2 0 3 0 4 0 5\n",
      "15\n",
      "100 120 -20 -30\n",
      "170\n"
     ]
    }
   ],
   "source": [
    "count = int(input())\n",
    "\n",
    "for _ in range(count):\n",
    "    li = map(int, input().split())\n",
    "    \n",
    "    print(sum(li))"
   ]
  },
  {
   "cell_type": "code",
   "execution_count": 18,
   "id": "7af57142",
   "metadata": {
    "scrolled": true
   },
   "outputs": [
    {
     "name": "stdout",
     "output_type": "stream",
     "text": [
      "3\n",
      "1 5 9 11 12\n",
      "38\n",
      "0 1 0 2 0 3 0 4 0 5\n",
      "15\n",
      "100 120 -20 -30\n",
      "170\n"
     ]
    }
   ],
   "source": [
    "# 조교님 정답\n",
    "# ver1\n",
    "def Sum(l):\n",
    "    s = 0\n",
    "    for i in l:\n",
    "        s = s + i\n",
    "    return s\n",
    "    \n",
    "t = int(input())\n",
    "for _ in range(t):\n",
    "    l = list(map(int, input().split()))\n",
    "    print(Sum(l))\n",
    "\n",
    "# ver2\n",
    "t = int(input())\n",
    "for _ in range(t):\n",
    "    l = list(map(int, input().split()))\n",
    "    print(sum(l))"
   ]
  },
  {
   "cell_type": "markdown",
   "id": "66080f35",
   "metadata": {},
   "source": [
    "# 스택"
   ]
  },
  {
   "cell_type": "code",
   "execution_count": 47,
   "id": "0f881ec1",
   "metadata": {},
   "outputs": [
    {
     "name": "stdout",
     "output_type": "stream",
     "text": [
      "2\n",
      "10\n",
      "1 -1 2 7 3 -1 4 -1 5 -1\n",
      "1 3 4 5\n",
      "6\n",
      "3 4 2 1 5 -1\n",
      "5\n"
     ]
    }
   ],
   "source": [
    "t = int(input())\n",
    "\n",
    "for _ in range(t):\n",
    "    counts = int(input())\n",
    "    l = list(map(int, input().split()))\n",
    "    \n",
    "    stack_push = []\n",
    "    stack_pop = []\n",
    "    \n",
    "    for i in range(counts):\n",
    "        if l[i] > 0 :\n",
    "            stack_push.append(l[i])\n",
    "        else:\n",
    "            stack_pop.append(stack_push.pop())\n",
    "    \n",
    "    print(*stack_pop)\n",
    "    \n",
    "# print(', '.join(map(str, stack_pop)))\n",
    "# 출력 형식이 안 맞음"
   ]
  },
  {
   "cell_type": "code",
   "execution_count": 48,
   "id": "4368ed97",
   "metadata": {},
   "outputs": [
    {
     "name": "stdout",
     "output_type": "stream",
     "text": [
      "2\n",
      "10\n",
      "1 -1 2 7 3 -1 4 -1 5 -1\n",
      "1 3 4 5\n",
      "6\n",
      "3 4 2 1 5 -1\n",
      "5\n"
     ]
    }
   ],
   "source": [
    "# 조교님\n",
    "t = int(input())\n",
    "\n",
    "for _ in range(t):\n",
    "    stack = []\n",
    "    ans = []\n",
    "    dummy =  int(input())\n",
    "    qry = list(map(int, input().split()))\n",
    "    \n",
    "    for q in qry:\n",
    "        if q > 0:\n",
    "            stack.append(q)\n",
    "        else:\n",
    "            ans.append(stack.pop())\n",
    "    print(*ans)"
   ]
  },
  {
   "cell_type": "markdown",
   "id": "ff5f6b47",
   "metadata": {},
   "source": [
    "# 큐"
   ]
  },
  {
   "cell_type": "code",
   "execution_count": 67,
   "id": "5b5789d3",
   "metadata": {},
   "outputs": [
    {
     "name": "stdout",
     "output_type": "stream",
     "text": [
      "2\n",
      "10\n",
      "1 -1 2 7 3 -1 4 -1 5 -1\n",
      "5\n",
      "6\n",
      "3 4 2 1 5 -1\n",
      "5\n"
     ]
    }
   ],
   "source": [
    "# 해결 못 함\n",
    "t = int(input())\n",
    "\n",
    "for _ in range(t):\n",
    "    counts = int(input())\n",
    "    l = list(map(int, input().split()))\n",
    "    \n",
    "    queue_push = []\n",
    "    queue_pop = []\n",
    "    \n",
    "    for i in range(counts):\n",
    "        if l[i] > 0 :\n",
    "            queue_push.append(l[i])\n",
    "        else:\n",
    "            queue_pop.append(queue_push.pop(0))\n",
    "    \n",
    "    print(*stack_pop)"
   ]
  },
  {
   "cell_type": "code",
   "execution_count": 62,
   "id": "c1b047b2",
   "metadata": {},
   "outputs": [
    {
     "name": "stdout",
     "output_type": "stream",
     "text": [
      "2\n",
      "10\n",
      "1 -1 2 7 3 -1 4 -1 5 -1\n",
      "1 2 7 3\n",
      "6\n",
      "3 4 2 1 5 -1\n",
      "3\n"
     ]
    }
   ],
   "source": [
    "# 조교님\n",
    "\n",
    "import collections\n",
    "\n",
    "t = int(input())\n",
    "for _ in range(t):\n",
    "    queue = collections.deque([])\n",
    "    ans = []\n",
    "    dummy =  int(input())\n",
    "    qry = list(map(int, input().split()))\n",
    "     \n",
    "    for q in qry:\n",
    "        if q > 0:\n",
    "            queue.append(q)\n",
    "        else:\n",
    "            ans.append(queue.popleft())\n",
    "    print(*ans)"
   ]
  },
  {
   "cell_type": "markdown",
   "id": "39c58fa6",
   "metadata": {},
   "source": [
    "# 우선순위 큐"
   ]
  },
  {
   "cell_type": "code",
   "execution_count": 69,
   "id": "4c11812e",
   "metadata": {},
   "outputs": [
    {
     "name": "stdout",
     "output_type": "stream",
     "text": [
      "2\n",
      "10\n",
      "1 -1 2 7 3 -1 4 -1 5 -1\n",
      "1 2 3 4\n",
      "6\n",
      "3 4 2 1 5 -1\n",
      "1\n"
     ]
    }
   ],
   "source": [
    "import heapq\n",
    "\n",
    "t = int(input())\n",
    "for _ in range(t):\n",
    "    hq = []\n",
    "    ans = []\n",
    "    dummy =  int(input())\n",
    "    qry = list(map(int, input().split()))\n",
    "     \n",
    "    for q in qry:\n",
    "        if q > 0:\n",
    "            heapq.heappush(hq, q)\n",
    "        else:\n",
    "            ans.append(heapq.heappop(hq))\n",
    "    print(*ans)"
   ]
  },
  {
   "cell_type": "code",
   "execution_count": null,
   "id": "4cecb31d",
   "metadata": {},
   "outputs": [],
   "source": [
    "# 조교님\n",
    "import heapq\n",
    "\n",
    "t = int(input())\n",
    "for _ in range(t):\n",
    "    hq = []\n",
    "    ans = []\n",
    "    dummy =  int(input())\n",
    "    qry = list(map(int, input().split()))\n",
    "     \n",
    "    for q in qry:\n",
    "        if q > 0:\n",
    "            heapq.heappush(hq, q)\n",
    "        else:\n",
    "            ans.append(heapq.heappop(hq))\n",
    "    print(*ans)"
   ]
  },
  {
   "cell_type": "markdown",
   "id": "0ba85d52",
   "metadata": {},
   "source": [
    "# 피보나치 함수"
   ]
  },
  {
   "cell_type": "code",
   "execution_count": 77,
   "id": "fbe45948",
   "metadata": {},
   "outputs": [
    {
     "name": "stdout",
     "output_type": "stream",
     "text": [
      "6\n",
      "1\n",
      "1\n",
      "2\n",
      "1\n",
      "3\n",
      "2\n",
      "4\n",
      "3\n",
      "5\n",
      "5\n",
      "6\n",
      "8\n"
     ]
    }
   ],
   "source": [
    "# 굉장히 비효율적인 함수\n",
    "# 시간복잡도 2^n\n",
    "\n",
    "def Fibo(n):\n",
    "    if n <= 2:\n",
    "        return 1\n",
    "    \n",
    "    return Fibo(n-1) + Fibo(n-2)\n",
    "\n",
    "t = int(input())\n",
    "for _ in range(t):\n",
    "    n = int(input())\n",
    "    print(Fibo(n))"
   ]
  },
  {
   "cell_type": "markdown",
   "id": "7c028b10",
   "metadata": {},
   "source": [
    "# 하노이 탑"
   ]
  },
  {
   "cell_type": "code",
   "execution_count": null,
   "id": "1d61963e",
   "metadata": {},
   "outputs": [],
   "source": [
    "def Hanoi(n, start, mid, end):\n",
    "    if n == 0:\n",
    "        return \n",
    "    \n",
    "    Hanoi(n-1, start, end, mid)\n",
    "    print(start, '->', end)\n",
    "    Hanoi(n-1, mid, start, end)\n",
    "    \n",
    "t = int(input())\n",
    "for _ in range(t):\n",
    "    n = int(input())\n",
    "    Hanoi(n, 'A', 'B', 'C')"
   ]
  },
  {
   "cell_type": "markdown",
   "id": "470ddb0a",
   "metadata": {},
   "source": [
    "# 이진 탐색"
   ]
  },
  {
   "cell_type": "code",
   "execution_count": 7,
   "id": "bc59567f",
   "metadata": {},
   "outputs": [
    {
     "name": "stdout",
     "output_type": "stream",
     "text": [
      "1\n",
      "1 2 3 4 5\n",
      "1 3 6\n",
      "0 2 -1\n"
     ]
    }
   ],
   "source": [
    "def binary(input_list, item, high, low):\n",
    "    mid = (high + low)//2\n",
    "\n",
    "    while high > low:\n",
    "        if input_list[mid] == item:\n",
    "            return mid\n",
    "        elif input_list[mid] > item:\n",
    "            return binary(input_list, item, high=mid-1, low=low)\n",
    "        elif input_list[mid] < item:\n",
    "            return binary(input_list, item, high=high, low=mid+1)\n",
    "    return -1\n",
    "\n",
    "t = int(input())\n",
    "for _ in range(t):\n",
    "    input_list = list(map(int, input().split()))\n",
    "    items = list(map(int, input().split()))\n",
    "    answer = []\n",
    "    \n",
    "    for item in items:\n",
    "        answer.append(binary(input_list, item, len(input_list)-1, 0))\n",
    "    print(*answer)"
   ]
  },
  {
   "cell_type": "code",
   "execution_count": 46,
   "id": "1092ca2d",
   "metadata": {},
   "outputs": [
    {
     "name": "stdout",
     "output_type": "stream",
     "text": [
      "1\n",
      "1 2 3 4 5\n",
      "1 3 6\n",
      "0 2 -1\n"
     ]
    }
   ],
   "source": [
    "def binary(input_list, item, high, low):\n",
    "    mid = (high + low) // 2\n",
    "    \n",
    "    if high <= low:\n",
    "        return -1\n",
    "    \n",
    "    if input_list[mid] == item:\n",
    "        return mid\n",
    "    elif input_list[mid] > item:\n",
    "        return binary(input_list, item, high=mid-1, low=low)\n",
    "    else:\n",
    "        return binary(input_list, item, high=high, low=mid+1)\n",
    "\n",
    "t = int(input())\n",
    "for _ in range(t):\n",
    "    input_list = list(map(int, input().split()))\n",
    "    items = list(map(int, input().split()))\n",
    "    answer = []\n",
    "    \n",
    "    for item in items:\n",
    "        result = binary(input_list, item, len(input_list)-1, 0)\n",
    "        answer.append(result)\n",
    "    \n",
    "    print(*answer)"
   ]
  },
  {
   "cell_type": "code",
   "execution_count": 98,
   "id": "26d09723",
   "metadata": {},
   "outputs": [
    {
     "name": "stdout",
     "output_type": "stream",
     "text": [
      "3\n",
      "1 2 3 4 5\n",
      "1 3 6\n",
      "0 2 -1\n",
      "1 3 5 7\n",
      "2 3 6\n",
      "-1 1 -1\n",
      "2 3 4 5 6\n",
      "5 3 1\n",
      "3 1 -1\n"
     ]
    }
   ],
   "source": [
    "import bisect\n",
    "def find(l, x):\n",
    "    i = bisect.bisect_left(l, x)\n",
    "    if i != len(l) and l[i] == x:\n",
    "        return i\n",
    "    return -1\n",
    "\n",
    "t = int(input())\n",
    "for _ in range(t):\n",
    "    data = list(map(int, input().split()))\n",
    "    query = list(map(int, input().split()))\n",
    "    answer = [find(data, x) for x in query]\n",
    "    print(*answer)"
   ]
  },
  {
   "cell_type": "markdown",
   "id": "335f46ba",
   "metadata": {},
   "source": [
    "# 그래프"
   ]
  },
  {
   "cell_type": "markdown",
   "id": "e3da9c69",
   "metadata": {},
   "source": [
    "## 인접 행렬 그래프"
   ]
  },
  {
   "cell_type": "code",
   "execution_count": 26,
   "id": "dfb45310",
   "metadata": {
    "collapsed": true
   },
   "outputs": [
    {
     "name": "stdout",
     "output_type": "stream",
     "text": [
      "2\n",
      "4 6\n",
      "0 1 3\n",
      "0 3 7\n",
      "1 2 2\n",
      "1 3 5\n",
      "2 0 3\n",
      "3 2 3\n",
      "0 3 0 7\n",
      "0 0 2 5\n",
      "3 0 0 0\n",
      "0 0 3 0\n",
      "5 10\n",
      "0 1 1\n",
      "0 2 1\n",
      "0 4 1\n",
      "1 0 1\n",
      "1 3 2\n",
      "1 4 1\n",
      "2 4 1\n",
      "3 4 1\n",
      "4 1 1\n",
      "4 2 2\n",
      "0 1 1 0 1\n",
      "1 0 0 2 1\n",
      "0 0 0 0 1\n",
      "0 0 0 0 1\n",
      "0 1 2 0 0\n"
     ]
    }
   ],
   "source": [
    "t = int(input())\n",
    "for _ in range(t):\n",
    "    N, M = map(int, input().split())\n",
    "    \n",
    "    Matrix = [[0] * N for _ in range(N)]\n",
    "    \n",
    "    for i in range(M):\n",
    "        u, v, c, = map(int, input().split())\n",
    "        Matrix[u][v] = c\n",
    "        \n",
    "    for i in range(N):\n",
    "        print(*Matrix[i])"
   ]
  },
  {
   "cell_type": "code",
   "execution_count": 30,
   "id": "f8b7ae6f",
   "metadata": {},
   "outputs": [
    {
     "name": "stdout",
     "output_type": "stream",
     "text": [
      "1\n",
      "4 6\n",
      "0 1 3\n",
      "0 3 7\n",
      "1 2 2\n",
      "1 3 5\n",
      "2 0 3\n",
      "3 2 3\n",
      "[[0, 3, 0, 7], [0, 0, 2, 5], [3, 0, 0, 0], [0, 0, 3, 0]]\n"
     ]
    }
   ],
   "source": [
    "t = int(input())\n",
    "for _ in range(t):\n",
    "    N, M = map(int, input().split())\n",
    "    \n",
    "    Matrix = [[0] * N for _ in range(N)]\n",
    "    \n",
    "    for _ in range(M):\n",
    "        u, v, c = map(int, input().split())\n",
    "        Matrix[u][v] = c\n",
    "        \n",
    "    print(Matrix)"
   ]
  },
  {
   "cell_type": "markdown",
   "id": "2ff6e55e",
   "metadata": {},
   "source": [
    "##  인접 리스트"
   ]
  },
  {
   "cell_type": "code",
   "execution_count": 32,
   "id": "bb3c0a99",
   "metadata": {},
   "outputs": [
    {
     "name": "stdout",
     "output_type": "stream",
     "text": [
      "1\n",
      "4 4\n",
      "0 1\n",
      "0 3\n",
      "1 2\n",
      "1 3\n",
      "[[1, 3], [0, 2, 3], [1], [0, 1]]\n",
      "1 3\n",
      "0 2 3\n",
      "1\n",
      "0 1\n"
     ]
    }
   ],
   "source": [
    "t = int(input())\n",
    "for _ in range(t):\n",
    "    N, M = map(int, input().split())\n",
    "    \n",
    "    List = [[] for _ in range(N)]\n",
    "    \n",
    "    for i in range(M):\n",
    "        u, v = map(int, input().split())\n",
    "        List[u].append(v)\n",
    "        List[v].append(u)\n",
    "\n",
    "    \n",
    "    for i in range(N):\n",
    "        List[i].sort()\n",
    "        print(*List[i])"
   ]
  },
  {
   "cell_type": "markdown",
   "id": "6113d018",
   "metadata": {},
   "source": [
    "## BFS"
   ]
  },
  {
   "cell_type": "code",
   "execution_count": 44,
   "id": "2bc6f1f8",
   "metadata": {},
   "outputs": [
    {
     "name": "stdout",
     "output_type": "stream",
     "text": [
      "3\n",
      "4 4\n",
      "0 1\n",
      "0 3\n",
      "1 2\n",
      "1 3\n",
      "0 1 3 2 \n",
      "5 7\n",
      "0 1\n",
      "0 2\n",
      "0 4\n",
      "1 3\n",
      "1 4\n",
      "2 4\n",
      "3 4\n",
      "0 1 2 4 3 \n",
      "6 5\n",
      "0 5\n",
      "5 4\n",
      "1 4\n",
      "1 3\n",
      "2 3\n",
      "0 5 4 \n"
     ]
    }
   ],
   "source": [
    "from collections import deque\n",
    "\n",
    "t = int(input())\n",
    "for _ in range(t):\n",
    "    N, M = map(int, input().split())\n",
    "    \n",
    "    List = [[] for _ in range(N)]\n",
    "    \n",
    "    for i in range(M):\n",
    "        u, v = map(int, input().split())\n",
    "        List[u].append(v)\n",
    "        \n",
    "    for i in range(N):\n",
    "        List[i].sort()\n",
    "    \n",
    "\n",
    "    Check = [False] * N # 방문 했는지 안 했는지 확인\n",
    "    Queue = deque([0]) # 큐 초기화\n",
    "\n",
    "    while len(Queue)> 0:\n",
    "        v = Queue.popleft() # 큐에서 나오는 v\n",
    "        if Check[v] == True: # v가 이 시점에 방문했다면\n",
    "            continue\n",
    "            \n",
    "        Check[v] = True \n",
    "        print(v, end=' ')\n",
    "        \n",
    "        for i in List[v]: # v와 연결된 모든 정점 중\n",
    "            if Check[i] == False: \n",
    "                Queue.append(i)\n",
    "                \n",
    "    print('')"
   ]
  },
  {
   "cell_type": "code",
   "execution_count": null,
   "id": "8a103fd9",
   "metadata": {},
   "outputs": [],
   "source": [
    "# 조교님\n",
    "\n",
    "import collections\n",
    "\n",
    "t = int(input())\n",
    "for _ in range(t):\n",
    "    queue = collections.deque([])\n",
    "    ans = []\n",
    "    dummy =  int(input())\n",
    "    qry = list(map(int, input().split()))\n",
    "     \n",
    "    for q in qry:\n",
    "        if q > 0:\n",
    "            queue.append(q)\n",
    "        else:\n",
    "            ans.append(queue.popleft())\n",
    "    print(*ans)"
   ]
  },
  {
   "cell_type": "markdown",
   "id": "991961a7",
   "metadata": {},
   "source": [
    "# DFS"
   ]
  },
  {
   "cell_type": "code",
   "execution_count": 73,
   "id": "26f3b511",
   "metadata": {},
   "outputs": [
    {
     "name": "stdout",
     "output_type": "stream",
     "text": [
      "3\n",
      "4 4\n",
      "0 1\n",
      "0 3\n",
      "1 2\n",
      "1 3\n",
      "0 1 2 3 \n",
      "5 7\n",
      "0 1\n",
      "0 2\n",
      "0 4\n",
      "1 3\n",
      "1 4\n",
      "2 4\n",
      "3 4\n",
      "0 1 3 4 2 \n",
      "6 5\n",
      "0 5\n",
      "5 4\n",
      "1 4\n",
      "1 3\n",
      "2 3\n",
      "0 5 4 1 3 2 \n"
     ]
    }
   ],
   "source": [
    "# 재귀 \n",
    "import sys\n",
    "sys.setrecursionlimit(1000000) # 재귀 양 짱 많으면 메모리 터지니까 그거 방지\n",
    "\n",
    "def DFS(v, Link, Check):\n",
    "    print(v, end=' ')\n",
    "    Check[v] = True\n",
    "    for i in List[v]:\n",
    "        if Check[i] == False:\n",
    "            DFS(i, Link, Check)\n",
    "        \n",
    "t = int(input())\n",
    "\n",
    "for _ in range(t):\n",
    "    N, M = map(int, input().split())\n",
    "    \n",
    "    List = [[] for _ in range(N)]\n",
    "    \n",
    "    for i in range(M):\n",
    "        u, v = map(int, input().split())\n",
    "        List[u].append(v)\n",
    "        List[v].append(u)\n",
    "        \n",
    "    for i in range(N):\n",
    "        List[i].sort()\n",
    "    \n",
    "    Check = [False] * N\n",
    "    DFS(0, List[i], Check)\n",
    "    print('')"
   ]
  },
  {
   "cell_type": "code",
   "execution_count": 68,
   "id": "6c2c8944",
   "metadata": {},
   "outputs": [
    {
     "name": "stdout",
     "output_type": "stream",
     "text": [
      "3\n",
      "4 4\n",
      "0 1\n",
      "0 3\n",
      "1 2\n",
      "1 3\n",
      "0 1 2 3 \n",
      "5 7\n",
      "0 1\n",
      "0 2\n",
      "0 4\n",
      "1 3\n",
      "1 4\n",
      "2 4\n",
      "3 4\n",
      "0 1 3 4 2 \n",
      "6 5\n",
      "0 5\n",
      "5 4\n",
      "1 4\n",
      "1 3\n",
      "2 3\n",
      "0 5 4 1 3 2 \n"
     ]
    }
   ],
   "source": [
    "t = int(input())\n",
    "for _ in range(t):\n",
    "    N, M = map(int, input().split())\n",
    "    \n",
    "    List = [[] for _ in range(N)]\n",
    "    \n",
    "    for i in range(M):\n",
    "        u, v = map(int, input().split())\n",
    "        List[u].append(v)\n",
    "        List[v].append(u)\n",
    "        \n",
    "    for i in range(N):\n",
    "        List[i].sort(reverse=True)\n",
    "    \n",
    "\n",
    "    Check = [False] * N # 방문 했는지 안 했는지 확인\n",
    "    Stack = [0]# 큐 초기화\n",
    "\n",
    "    while Stack:\n",
    "        v = Stack.pop() # 큐에서 나오는 v\n",
    "        if Check[v] == True: # v가 이 시점에 방문했다면\n",
    "            continue\n",
    "            \n",
    "        Check[v] = True\n",
    "        \n",
    "        print(v, end=' ')\n",
    "        \n",
    "        for i in List[v]: # v와 연결된 모든 정점 중\n",
    "            if Check[i] == False: \n",
    "                Stack.append(i)\n",
    "                \n",
    "    print('')"
   ]
  },
  {
   "cell_type": "markdown",
   "id": "b8ea6816",
   "metadata": {},
   "source": [
    "## Dijkstra"
   ]
  },
  {
   "cell_type": "code",
   "execution_count": null,
   "id": "2765e860",
   "metadata": {},
   "outputs": [],
   "source": [
    "# 인접 행렬 사용 \n",
    "# Inf = int(inf)\n",
    "# t = int(input())\n",
    "# for _ in range(t):\n",
    "#     N, M = map(int, input().split())\n",
    "    \n",
    "#     Matrix = [[0] * N for _ in range(N)]\n",
    "    \n",
    "#     for i in range(M):\n",
    "#         u, v, c, = map(int, input().split())\n",
    "#         Matrix[u][v] = c\n",
    "        \n",
    "    visited = [False]*n\n",
    "    dist = [-1]*n\n",
    "    hq = []\n",
    "    heapq.heappush(0, 0)\n",
    "    \n",
    "    while len(hq) > 0:\n",
    "        d, u = heapq.heappushpop(hq)\n",
    "        \n",
    "        if visit[u] == False:\n",
    "            visit[u] = True\n",
    "            dist[u] = d\n",
    "            \n",
    "            for i in Matrix[u]:\n",
    "                if visit[Matrix[u]] == False:\n",
    "                    heapq.heappush(hq, [d+i[0], i[1]])               \n",
    "    print(dist[-1])"
   ]
  },
  {
   "cell_type": "code",
   "execution_count": 104,
   "id": "999b0e83",
   "metadata": {},
   "outputs": [
    {
     "name": "stdout",
     "output_type": "stream",
     "text": [
      "1\n",
      "4 4\n",
      "0 1 3\n",
      "0 2 4\n",
      "2 1 2\n",
      "1 3 1\n",
      "4\n"
     ]
    }
   ],
   "source": [
    "import heapq\n",
    "\n",
    "for t in range(int(input())):\n",
    "    N, M = map(int, input().split())\n",
    "    graph = [[] for _ in range(N)] # 인접 리스트 정의\n",
    "    for _ in range(M):\n",
    "        u, v, c = map(int, input().split())\n",
    "        graph[u].append([v, c])\n",
    "    \n",
    "    visit = [False]*N\n",
    "    dist = [-1]*N\n",
    "    hq = []\n",
    "    heapq.heappush(hq, (0, 0)) # 시작점 지정\n",
    "    \n",
    "    while len(hq) > 0:\n",
    "        d, u = heapq.heappop(hq)\n",
    "        \n",
    "        if visit[u] == False:\n",
    "            visit[u] = True\n",
    "            dist[u] = d\n",
    "            \n",
    "            for i in graph[u]:\n",
    "                if visit[i[0]] == False:\n",
    "                    heapq.heappush(hq, [d+i[1], i[0]])               \n",
    "    print(dist[-1])"
   ]
  },
  {
   "cell_type": "markdown",
   "id": "69a9f087",
   "metadata": {},
   "source": [
    "## Greedy"
   ]
  },
  {
   "cell_type": "code",
   "execution_count": 97,
   "id": "efbf2e54",
   "metadata": {},
   "outputs": [
    {
     "name": "stdout",
     "output_type": "stream",
     "text": [
      "4\n",
      "200\n",
      "2\n",
      "700\n",
      "3\n",
      "7900\n",
      "8\n",
      "53200\n",
      "6\n"
     ]
    }
   ],
   "source": [
    "# 세금 징수 \n",
    "for t in range(int(input())):\n",
    "    n = int(input())\n",
    "    coins = [50000, 10000, 5000, 1000, 500, 100]\n",
    "    \n",
    "    li_counts = []\n",
    "    for coin in coins:\n",
    "        counts = n // coin\n",
    "        li_counts.append(counts)\n",
    "        n -= counts*coin\n",
    "        \n",
    "    print(sum(li_counts))"
   ]
  },
  {
   "cell_type": "code",
   "execution_count": 99,
   "id": "a366bbdf",
   "metadata": {},
   "outputs": [
    {
     "name": "stdout",
     "output_type": "stream",
     "text": [
      "4\n",
      "200\n",
      "2\n",
      "700\n",
      "3\n",
      "7900\n",
      "8\n",
      "53200\n",
      "6\n"
     ]
    }
   ],
   "source": [
    "# 조교님\n",
    "# 세금 징수 \n",
    "for t in range(int(input())):\n",
    "    n = int(input())\n",
    "    coins = [50000, 10000, 5000, 1000, 500, 100]\n",
    "    \n",
    "    coinnum = 0\n",
    "    for coin in coins:\n",
    "        coinnum += n//coin\n",
    "        n %= coin\n",
    "\n",
    "    print(coinnum)"
   ]
  },
  {
   "cell_type": "code",
   "execution_count": 105,
   "id": "f98a3f53",
   "metadata": {},
   "outputs": [
    {
     "name": "stdout",
     "output_type": "stream",
     "text": [
      "2\n",
      "4 100\n",
      "100 30\n",
      "50 30\n",
      "200 40\n",
      "120 55\n",
      "365\n",
      "5 340\n",
      "795 953\n",
      "41 206\n",
      "524 422\n",
      "958 574\n",
      "135 932\n",
      "567\n"
     ]
    }
   ],
   "source": [
    "# 무거운 용액 - 조교님\n",
    "for t in range(int(input())):\n",
    "    N, C = map(int, input().split())\n",
    "    liquidlist = []\n",
    "    \n",
    "    for i in range(N):\n",
    "        w, v = map(int, input().split())\n",
    "        liquidlist.append((w/v, w, v)) # 밀도, 무게, 부피 \n",
    "    liquidlist.sort(reverse=True)\n",
    "    maxg = 0\n",
    "\n",
    "    for i in range(N):\n",
    "        if C >= liquidlist[i][2]: # 채우고자 하는 용액보다 크다면 다 넣을 수 있다\n",
    "            maxg += liquidlist[i][1] # i번째 용액이 가지고 있는 전체 무게 \n",
    "            C -= liquidlist[i][2] # liquidlist[i][2]만큼 넣었으니 C에서 빼줌 \n",
    "        else:\n",
    "            maxg += C*(liquidlist[i][0])# 밀도*일정밀도 \n",
    "            break\n",
    "            \n",
    "    print(int(maxg))"
   ]
  },
  {
   "cell_type": "markdown",
   "id": "f15a8448",
   "metadata": {},
   "source": [
    "# DP"
   ]
  },
  {
   "cell_type": "markdown",
   "id": "cab13e78",
   "metadata": {},
   "source": [
    "## 피보나치"
   ]
  },
  {
   "cell_type": "code",
   "execution_count": 109,
   "id": "faf68d0d",
   "metadata": {},
   "outputs": [
    {
     "name": "stdout",
     "output_type": "stream",
     "text": [
      "6\n",
      "1\n",
      "1\n",
      "2\n",
      "1\n",
      "4\n",
      "3\n",
      "7\n",
      "13\n",
      "50\n",
      "12586269025\n",
      "200\n",
      "280571172992510140037611932413038677189525\n"
     ]
    }
   ],
   "source": [
    "t = int(input())\n",
    "\n",
    "for _ in range(t):\n",
    "    n = int(input())\n",
    "    \n",
    "    fibo = [0] * (n+1)\n",
    "    \n",
    "    for i in range(n+1):\n",
    "        if i in [1, 2]:\n",
    "            fibo[i] = 1\n",
    "        else:\n",
    "            fibo[i] = fibo[i-1] + fibo[i-2]\n",
    "            \n",
    "    print(fibo[n])"
   ]
  },
  {
   "cell_type": "code",
   "execution_count": 110,
   "id": "ac0498f6",
   "metadata": {},
   "outputs": [
    {
     "name": "stdout",
     "output_type": "stream",
     "text": [
      "6\n",
      "1\n",
      "1\n",
      "2\n",
      "1\n",
      "4\n",
      "3\n",
      "7\n",
      "13\n",
      "50\n",
      "12586269025\n",
      "200\n",
      "280571172992510140037611932413038677189525\n"
     ]
    }
   ],
   "source": [
    "t = int(input())\n",
    "\n",
    "for _ in range(t):\n",
    "    n = int(input())\n",
    "    \n",
    "    fibo = [0] * (n+1)\n",
    "    \n",
    "    for i in range(1, n+1):\n",
    "        if i == 1 or i ==2:\n",
    "            fibo[i] = 1\n",
    "        else:\n",
    "            fibo[i] = fibo[i-1] + fibo[i-2]\n",
    "            \n",
    "    print(fibo[n])"
   ]
  },
  {
   "cell_type": "markdown",
   "id": "5c64cffd",
   "metadata": {},
   "source": [
    "## 세계 암기 대회"
   ]
  },
  {
   "cell_type": "code",
   "execution_count": 113,
   "id": "d5c62e30",
   "metadata": {},
   "outputs": [
    {
     "name": "stdout",
     "output_type": "stream",
     "text": [
      "2\n",
      "3 4\n",
      "4 0 0 0\n",
      "0 2 3 4\n",
      "1 3 5 2\n",
      "9\n",
      "3 5\n",
      "1 1 2 1 1\n",
      "1 2 1 2 1\n",
      "1 1 1 1 1\n",
      "5\n"
     ]
    }
   ],
   "source": [
    "for t in range(int(input())):\n",
    "    n, m = map(int, input().split())\n",
    "    data = []\n",
    "    for i in range(n):\n",
    "        data.append(list(map(int, input().split())))\n",
    "    T = [[0] * m for i in range(n)]\n",
    "    for i in range(n):\n",
    "        for j in range(m):\n",
    "            if i == 0 and j == 0:\n",
    "                T[i][j] = data[i][j]\n",
    "            # 제일 위쪾\n",
    "            elif i == 0:\n",
    "                T[i][j] = T[i][j-1] + data[i][j]\n",
    "            # 제일 왼쪽    \n",
    "            elif j == 0:\n",
    "                T[i][j] = T[i-1][j] + data[i][j]\n",
    "            # 그 외 \n",
    "            else:\n",
    "                T[i][j] =  min(T[i][j-1], T[i-1][j], T[i-1][j-1]) + data[i][j]\n",
    "    print(T[n-1][m-1])"
   ]
  },
  {
   "cell_type": "code",
   "execution_count": null,
   "id": "e73bfecb",
   "metadata": {},
   "outputs": [],
   "source": []
  },
  {
   "cell_type": "code",
   "execution_count": null,
   "id": "966dae8e",
   "metadata": {},
   "outputs": [],
   "source": []
  },
  {
   "cell_type": "code",
   "execution_count": null,
   "id": "fdefda36",
   "metadata": {},
   "outputs": [],
   "source": []
  }
 ],
 "metadata": {
  "kernelspec": {
   "display_name": "Python 3 (ipykernel)",
   "language": "python",
   "name": "python3"
  },
  "language_info": {
   "codemirror_mode": {
    "name": "ipython",
    "version": 3
   },
   "file_extension": ".py",
   "mimetype": "text/x-python",
   "name": "python",
   "nbconvert_exporter": "python",
   "pygments_lexer": "ipython3",
   "version": "3.10.9"
  }
 },
 "nbformat": 4,
 "nbformat_minor": 5
}
