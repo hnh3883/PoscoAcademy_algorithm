{
 "cells": [
  {
   "cell_type": "code",
   "execution_count": 3,
   "id": "70ce6535",
   "metadata": {},
   "outputs": [
    {
     "name": "stdout",
     "output_type": "stream",
     "text": [
      "2\n",
      "4 4\n",
      "0 1\n",
      "0 3\n",
      "1 2\n",
      "1 3\n",
      "1 3\n",
      "0 2 3\n",
      "1\n",
      "0 1\n",
      "5 6\n",
      "0 1\n",
      "0 3\n",
      "0 4\n",
      "3 4\n",
      "1 4\n",
      "1 3\n",
      "1 3 4\n",
      "0 3 4\n",
      "\n",
      "0 1 4\n",
      "0 1 3\n"
     ]
    }
   ],
   "source": [
    "t = int(input()) # 반복 실행 횟수\n",
    "\n",
    "for _ in range(t) :\n",
    "    N, M = map(int, input().split()) # N: 정점의 개수, M:간선의 개수\n",
    "    \n",
    "    List = [[]*N for _ in range(N)]\n",
    "    \n",
    "    for i in range(M):\n",
    "        u, v= map(int, input().split())\n",
    "        List[u].append(v)\n",
    "        List[v].append(u)\n",
    "    \n",
    "    for i in range(N):\n",
    "        List[i].sort()\n",
    "        print(*List[i])\n",
    "        "
   ]
  },
  {
   "cell_type": "code",
   "execution_count": null,
   "id": "f305d0a0",
   "metadata": {},
   "outputs": [],
   "source": []
  }
 ],
 "metadata": {
  "kernelspec": {
   "display_name": "Python 3 (ipykernel)",
   "language": "python",
   "name": "python3"
  },
  "language_info": {
   "codemirror_mode": {
    "name": "ipython",
    "version": 3
   },
   "file_extension": ".py",
   "mimetype": "text/x-python",
   "name": "python",
   "nbconvert_exporter": "python",
   "pygments_lexer": "ipython3",
   "version": "3.9.16"
  }
 },
 "nbformat": 4,
 "nbformat_minor": 5
}
