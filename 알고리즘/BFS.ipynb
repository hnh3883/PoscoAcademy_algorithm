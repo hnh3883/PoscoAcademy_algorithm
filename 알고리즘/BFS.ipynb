{
 "cells": [
  {
   "cell_type": "code",
   "execution_count": 1,
   "id": "2b31a425",
   "metadata": {},
   "outputs": [
    {
     "name": "stdout",
     "output_type": "stream",
     "text": [
      "3\n",
      "4 4\n",
      "0 1\n",
      "0 3\n",
      "1 2\n",
      "1 3\n",
      "0 1 3 2 \n",
      "5 7\n",
      "0 1\n",
      "0 2\n",
      "0 4\n",
      "1 3\n",
      "1 4\n",
      "2 4\n",
      "3 4\n",
      "0 1 2 4 3 \n",
      "6 5\n",
      "0 5\n",
      "5 4\n",
      "1 4\n",
      "1 3\n",
      "2 3\n",
      "0 5 4 \n"
     ]
    }
   ],
   "source": [
    "from collections import deque\n",
    "T = int(input())\n",
    "for _ in range(T):\n",
    "    N,M = map(int, input().split())\n",
    "    List = [[] for _ in range(N)]\n",
    "    for i in range(M):\n",
    "        u,v = map(int, input().split())\n",
    "        List[u].append(v)\n",
    "    for i in range(N):\n",
    "        List[i].sort()\n",
    "    \n",
    "    Check = [False]*N\n",
    "    Queue = deque([0])\n",
    "    while Queue:\n",
    "        v = Queue.popleft()\n",
    "        if Check[v] == True:\n",
    "            continue\n",
    "        Check[v] = True\n",
    "        print(v, end=\" \")\n",
    "        for i in List[v]:\n",
    "            if Check[i] == False:\n",
    "                Queue.append(i)\n",
    "    print(\"\")"
   ]
  },
  {
   "cell_type": "code",
   "execution_count": null,
   "id": "5e75c312",
   "metadata": {},
   "outputs": [],
   "source": []
  }
 ],
 "metadata": {
  "kernelspec": {
   "display_name": "Python 3 (ipykernel)",
   "language": "python",
   "name": "python3"
  },
  "language_info": {
   "codemirror_mode": {
    "name": "ipython",
    "version": 3
   },
   "file_extension": ".py",
   "mimetype": "text/x-python",
   "name": "python",
   "nbconvert_exporter": "python",
   "pygments_lexer": "ipython3",
   "version": "3.9.16"
  }
 },
 "nbformat": 4,
 "nbformat_minor": 5
}
