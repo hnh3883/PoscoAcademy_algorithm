{
 "cells": [
  {
   "cell_type": "code",
   "execution_count": 7,
   "id": "4969a0dc",
   "metadata": {},
   "outputs": [
    {
     "name": "stdout",
     "output_type": "stream",
     "text": [
      "1\n",
      "1 2 3 4 5\n",
      "1 3 6\n",
      "0 2 -1\n"
     ]
    }
   ],
   "source": [
    "# 반복문\n",
    "t = int(input())\n",
    "for _ in range(t):\n",
    "    data = list(map(int,input().split()))\n",
    "    search_list = list(map(int,input().split()))  # 찾고자 하는 숫자 리스트\n",
    "    answer = []\n",
    "    for q in search_list:\n",
    "        left = 0\n",
    "        right = len(data)-1\n",
    "        while left <= right:\n",
    "            mid =(left + right) // 2\n",
    "            if data[mid] == q:\n",
    "                break\n",
    "            elif data[mid] > q:\n",
    "                right = mid -1\n",
    "            elif data[mid] < q:\n",
    "                left = mid + 1\n",
    "        if left > right:\n",
    "            answer.append(-1)\n",
    "        else:\n",
    "            answer.append(mid)\n",
    "    \n",
    "    print(*answer)"
   ]
  },
  {
   "cell_type": "code",
   "execution_count": null,
   "id": "fd9e89ba",
   "metadata": {},
   "outputs": [],
   "source": [
    "# # 재귀 함수\n",
    "# def binary(data, left, right, q):\n",
    "#     if left > right:\n",
    "#         return -1\n",
    "#     mid = (left+right) // 2\n",
    "#     if data[mid] == q:\n",
    "#         return mid\n",
    "#     if data[mid] > q:\n",
    "#         subproblem = binary(data, left, mid-1,q)\n",
    "#     elif data[mid] < q :\n",
    "#         subproblem = binary(data, mid+1, right,q)\n",
    "#     return subproblem\n",
    "    \n",
    "# t = int(input())\n",
    "# for _ in range(t):\n",
    "#     data = list(map(int,input().split()))\n",
    "#     query = list(map(int,input().split()))\n",
    "#     answer = []\n",
    "    \n",
    "#     for q in query:\n",
    "#         answer.append(binary(data,0,len(data)-1,q))\n",
    "    \n",
    "#     print(*answer)"
   ]
  },
  {
   "cell_type": "code",
   "execution_count": 20,
   "id": "ca400874",
   "metadata": {},
   "outputs": [
    {
     "name": "stdout",
     "output_type": "stream",
     "text": [
      "3\n",
      "1 2 3 4 5\n",
      "1 3 6\n",
      "0 2 -1\n",
      "1 3 5 7\n",
      "2 3 6\n",
      "-1 1 -1\n",
      "2 3 4 5 6\n",
      " 5 3 1\n",
      "3 1 -1\n"
     ]
    }
   ],
   "source": [
    "# #이진 탐색 라이브러리\n",
    "# import bisect\n",
    "\n",
    "# def find(l,x):\n",
    "#     i = bisect.bisect_left(l,x)\n",
    "#     if i != len(l) and l[i] == x:\n",
    "#         return i\n",
    "#     return -1\n",
    "# t = int(input())\n",
    "# for _ in range(t):\n",
    "#     data = list(map(int,input().split()))\n",
    "#     query = list(map(int,input().split()))\n",
    "#     answer = []\n",
    "    \n",
    "#     for q in query:\n",
    "#         answer.append(binary(data,0,len(data)-1,q))\n",
    "        \n",
    "#     print(*answer)"
   ]
  },
  {
   "cell_type": "code",
   "execution_count": null,
   "id": "76298074",
   "metadata": {},
   "outputs": [],
   "source": []
  }
 ],
 "metadata": {
  "kernelspec": {
   "display_name": "Python 3 (ipykernel)",
   "language": "python",
   "name": "python3"
  },
  "language_info": {
   "codemirror_mode": {
    "name": "ipython",
    "version": 3
   },
   "file_extension": ".py",
   "mimetype": "text/x-python",
   "name": "python",
   "nbconvert_exporter": "python",
   "pygments_lexer": "ipython3",
   "version": "3.9.16"
  }
 },
 "nbformat": 4,
 "nbformat_minor": 5
}
