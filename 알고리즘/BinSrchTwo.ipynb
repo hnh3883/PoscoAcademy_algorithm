{
 "cells": [
  {
   "cell_type": "code",
   "execution_count": 5,
   "id": "f575de98",
   "metadata": {},
   "outputs": [],
   "source": [
    "# import warnings\n",
    "# warnings.filterwarnings(\"ignore\", category=DeprecationWarning)"
   ]
  },
  {
   "cell_type": "code",
   "execution_count": 9,
   "id": "4b986bd6",
   "metadata": {},
   "outputs": [
    {
     "name": "stdout",
     "output_type": "stream",
     "text": [
      "3\n",
      "2 4 6 8 10\n",
      "1 3 7\n",
      "2 2 6\n",
      "1 3 5 7\n",
      "2 3 6\n",
      "1 3 5\n",
      "3 7 11 17 21\n",
      "9 8 4 100 16 17\n",
      "7 7 3 21 17 17\n"
     ]
    }
   ],
   "source": [
    "def binary2(l, x):\n",
    "    if x<=l[0]: return l[0]\n",
    "    if x>=l[-1]: return l[-1]\n",
    "    start = 0\n",
    "    end = len(l)-1\n",
    "    while start<end:\n",
    "        mid = (start+end)//2\n",
    "        if l[mid]==x: return l[mid]\n",
    "        elif x<l[mid]: end = mid\n",
    "        else: start = mid +1\n",
    "    \n",
    "    if abs(l[end-1]-x)<=abs(l[end]-x): return l[end-1]\n",
    "    else: return l[end]\n",
    "\n",
    "l = int(input())\n",
    "for _ in range(t):\n",
    "    l = list(map(int, input().split()))\n",
    "    q = list(map(int, input().split()))\n",
    "    ans = [binary2(l,x) for x in q]\n",
    "    print(*ans)"
   ]
  },
  {
   "cell_type": "code",
   "execution_count": null,
   "id": "8df8ce2c",
   "metadata": {},
   "outputs": [],
   "source": []
  }
 ],
 "metadata": {
  "kernelspec": {
   "display_name": "Python 3 (ipykernel)",
   "language": "python",
   "name": "python3"
  },
  "language_info": {
   "codemirror_mode": {
    "name": "ipython",
    "version": 3
   },
   "file_extension": ".py",
   "mimetype": "text/x-python",
   "name": "python",
   "nbconvert_exporter": "python",
   "pygments_lexer": "ipython3",
   "version": "3.9.16"
  }
 },
 "nbformat": 4,
 "nbformat_minor": 5
}
