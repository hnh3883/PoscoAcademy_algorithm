{
 "cells": [
  {
   "cell_type": "code",
   "execution_count": 7,
   "id": "c094f685",
   "metadata": {},
   "outputs": [
    {
     "name": "stdout",
     "output_type": "stream",
     "text": [
      "3\n",
      "4 4\n",
      "0 1\n",
      "0 3\n",
      "1 2\n",
      "1 3\n",
      "0123\n",
      "5 7\n",
      "0 1\n",
      "0 2\n",
      "0 4\n",
      "1 3\n",
      "1 4\n",
      "2 4\n",
      "3 4\n",
      "01342\n",
      "6 5\n",
      "0 5\n",
      "5 4\n",
      "1 4\n",
      "1 3\n",
      "2 3\n",
      "054132\n"
     ]
    }
   ],
   "source": [
    "# # 재귀함수\n",
    "# import sys\n",
    "# sys.setrecursionlimit(1000000)  # 백만번 못 넘어가게 제한\n",
    "\n",
    "# def DFS(v, List,Check):\n",
    "#     print(v, end=\"\")\n",
    "#     Check[v] = True\n",
    "#     for i in List[v]:\n",
    "#         if Check[i] == False:\n",
    "#             DFS(i,List,Check)\n",
    "# t = int(input())\n",
    "# for _ in range(t):\n",
    "#     N,M = map(int, input().split())\n",
    "#     List = [[] for _ in range(N)]\n",
    "#     for i in range(M):\n",
    "#         u, v = map(int,input().split())\n",
    "#         List[u].append(v)\n",
    "#         List[v].append(u)\n",
    "#     for i in range(N):\n",
    "#         List[i].sort\n",
    "    \n",
    "#     Check = [False]*N\n",
    "#     DFS(0,List,Check)\n",
    "#     print(\" \")"
   ]
  },
  {
   "cell_type": "code",
   "execution_count": 4,
   "id": "6a2cd24b",
   "metadata": {},
   "outputs": [
    {
     "name": "stdout",
     "output_type": "stream",
     "text": [
      "3\n",
      "4 4\n",
      "0 1\n",
      "0 3\n",
      "1 2\n",
      "1 3\n",
      "0 1 2 3 \n",
      "5 7\n",
      "0 1\n",
      "0 2\n",
      "0 4\n",
      "1 3\n",
      "1 4\n",
      "2 4\n",
      "3 4\n",
      "0 1 3 4 2 \n",
      "6 5\n",
      "0 5\n",
      "5 4\n",
      "1 4\n",
      "1 3\n",
      "2 3\n",
      "0 5 4 1 3 2 \n"
     ]
    }
   ],
   "source": [
    "# 스택으로 구현\n",
    "t = int(input())\n",
    "for _ in range(t):\n",
    "    N,M = map(int, input().split())\n",
    "    List = [[] for _ in range(N)]\n",
    "    for i in range(M):\n",
    "        u, v = map(int,input().split())\n",
    "        List[u].append(v)\n",
    "        List[v].append(u)\n",
    "    for i in range(N):\n",
    "        List[i].sort(reverse=True)\n",
    "    \n",
    "    Check = [False]*N  # 방문여부 확인을 위한 리스트\n",
    "    Stack = [0] # 스택 사용\n",
    "    while Stack:\n",
    "        v = Stack.pop()\n",
    "        if Check[v] == True: # v가 이미 방문했다면\n",
    "            continue\n",
    "        Check[v] = True\n",
    "        print(v, end=\" \")\n",
    "        for i in List[v]:\n",
    "            if Check[i] == False:\n",
    "                Stack.append(i)\n",
    "    print(\"\")\n",
    "        \n",
    "    \n",
    "    "
   ]
  },
  {
   "cell_type": "code",
   "execution_count": null,
   "id": "3d50a045",
   "metadata": {},
   "outputs": [],
   "source": []
  }
 ],
 "metadata": {
  "kernelspec": {
   "display_name": "Python 3 (ipykernel)",
   "language": "python",
   "name": "python3"
  },
  "language_info": {
   "codemirror_mode": {
    "name": "ipython",
    "version": 3
   },
   "file_extension": ".py",
   "mimetype": "text/x-python",
   "name": "python",
   "nbconvert_exporter": "python",
   "pygments_lexer": "ipython3",
   "version": "3.9.16"
  }
 },
 "nbformat": 4,
 "nbformat_minor": 5
}
