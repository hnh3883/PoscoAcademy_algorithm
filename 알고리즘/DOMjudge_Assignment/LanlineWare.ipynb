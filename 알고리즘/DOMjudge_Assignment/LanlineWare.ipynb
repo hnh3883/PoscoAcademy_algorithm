{
 "cells": [
  {
   "cell_type": "code",
   "execution_count": 10,
   "id": "e5365bcc",
   "metadata": {},
   "outputs": [
    {
     "name": "stdout",
     "output_type": "stream",
     "text": [
      "4\n",
      "2 1 0\n",
      "0 1\n",
      "0\n",
      "5 4 2\n",
      "2 4\n",
      "3 2\n",
      "3 1\n",
      "0 4\n",
      "0\n",
      "7 9 6\n",
      "0 1\n",
      "0 2\n",
      "4 5\n",
      "0 4\n",
      "0 5\n",
      "2 4\n",
      "1 4\n",
      "1 5\n",
      "6 3\n",
      "5\n",
      "10 12 5\n",
      "1 5\n",
      "8 1\n",
      "8 6\n",
      "4 8\n",
      "9 7\n",
      "4 6\n",
      "1 3\n",
      "3 7\n",
      "5 6\n",
      "9 8\n",
      "5 9\n",
      "7 4\n",
      "2\n"
     ]
    }
   ],
   "source": [
    "# 스택으로 구현\n",
    "t = int(input())\n",
    "for _ in range(t):\n",
    "    # N: 정점의 개수, M: 간선의 개수, virus_node: 바이러스 시작한 노드 넘버\n",
    "    N,M,virus_node = map(int, input().split())  \n",
    "    List = [[] for _ in range(N)]\n",
    "    for i in range(M):\n",
    "        u, v = map(int,input().split())\n",
    "        List[u].append(v)\n",
    "        List[v].append(u)\n",
    "    for i in range(N):\n",
    "        List[i].sort(reverse=True)\n",
    "    \n",
    "    Check = [False]*N  # 방문여부 확인을 위한 리스트\n",
    "    Stack = [virus_node] # 스택 사용\n",
    "    \n",
    "    count = 0\n",
    "    while Stack:\n",
    "        v = Stack.pop()\n",
    "        if Check[v] == True: # v가 이미 방문했다면\n",
    "            continue\n",
    "        Check[v] = True\n",
    "        count += 1 \n",
    "        \n",
    "        for i in List[v]:\n",
    "            if Check[i] == False:\n",
    "                Stack.append(i)\n",
    "    print(N-count)"
   ]
  },
  {
   "cell_type": "code",
   "execution_count": null,
   "id": "a18fe1cc",
   "metadata": {},
   "outputs": [],
   "source": []
  }
 ],
 "metadata": {
  "kernelspec": {
   "display_name": "Python 3 (ipykernel)",
   "language": "python",
   "name": "python3"
  },
  "language_info": {
   "codemirror_mode": {
    "name": "ipython",
    "version": 3
   },
   "file_extension": ".py",
   "mimetype": "text/x-python",
   "name": "python",
   "nbconvert_exporter": "python",
   "pygments_lexer": "ipython3",
   "version": "3.9.16"
  }
 },
 "nbformat": 4,
 "nbformat_minor": 5
}
