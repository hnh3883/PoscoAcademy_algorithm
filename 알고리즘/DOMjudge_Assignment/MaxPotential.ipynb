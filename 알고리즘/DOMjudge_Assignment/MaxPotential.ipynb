{
 "cells": [
  {
   "cell_type": "code",
   "execution_count": 19,
   "id": "7f86e024",
   "metadata": {},
   "outputs": [
    {
     "name": "stdout",
     "output_type": "stream",
     "text": [
      "3\n",
      "1 1 2 1 1 2\n",
      "12\n",
      "1 2\n",
      "3\n",
      "1 2 2 1 1 2 2\n",
      "32\n"
     ]
    }
   ],
   "source": [
    "t = int(input())  # 테스트 케이스\n",
    "list_num = []  # 입력값 넣어줄 리스트\n",
    "poten = 0  # 최대 잠재력\n",
    "for _ in range(t):\n",
    "    list_num = list(map(int, input().split()))  # 값 입력 받기\n",
    "    for i in range(len(list_num)): # 값 입력 받은 수만큼 반복문\n",
    "        if (i <= 1):  # 1,2 번째는 더하는 것이 값이 더 큼 (1+2 > 1*2)\n",
    "                poten += list_num[i]\n",
    "        else :  # 3번째 부터는 1은 더하기 2는 곱하기\n",
    "            if (list_num[i]==1):\n",
    "                poten += list_num[i]\n",
    "            else:\n",
    "                poten *= list_num[i]\n",
    "    print(poten%120509130217) # 컴퓨터 과부하 방지용으로 큰 수로 나누기\n",
    "    poten = 0   # 값 초기화"
   ]
  },
  {
   "cell_type": "code",
   "execution_count": null,
   "id": "77dc2757",
   "metadata": {},
   "outputs": [],
   "source": []
  }
 ],
 "metadata": {
  "kernelspec": {
   "display_name": "Python 3 (ipykernel)",
   "language": "python",
   "name": "python3"
  },
  "language_info": {
   "codemirror_mode": {
    "name": "ipython",
    "version": 3
   },
   "file_extension": ".py",
   "mimetype": "text/x-python",
   "name": "python",
   "nbconvert_exporter": "python",
   "pygments_lexer": "ipython3",
   "version": "3.9.16"
  }
 },
 "nbformat": 4,
 "nbformat_minor": 5
}
