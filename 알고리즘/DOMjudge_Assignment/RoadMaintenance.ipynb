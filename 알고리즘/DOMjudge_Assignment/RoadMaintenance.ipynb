{
 "cells": [
  {
   "cell_type": "code",
   "execution_count": 22,
   "id": "feece3ad",
   "metadata": {},
   "outputs": [
    {
     "name": "stdout",
     "output_type": "stream",
     "text": [
      "2\n",
      "2\n",
      "-100 -50\n",
      "50 100\n",
      "300\n",
      "4\n",
      "-1 -1\n",
      "-1 1\n",
      "1 -1\n",
      "1 1\n",
      "16\n"
     ]
    }
   ],
   "source": [
    "t = int(input())  # 테스트 케이스\n",
    "for _ in range(t):\n",
    "    n = int(input())  # 도시 개수 n\n",
    "    list_x = []  # x좌표 담아줄 리스트\n",
    "    list_y = []  # y좌표 담아줄 리스트\n",
    "    cost_x = 0  # x 비용\n",
    "    cost_y = 0  # y 비용\n",
    "    for _ in range(n):\n",
    "        x,y = map(int, input().split())  # x,y 값 받아오기\n",
    "        list_x.append(x)  # x리스트에 값 추가 \n",
    "        list_y.append(y)  # y리스트에 값 추가\n",
    "    for i in range(len(list_x)) :  # 리스트에 있는 좌표들 간의 비용 계산\n",
    "        for j in range(len(list_x)) :\n",
    "            if(i != j):\n",
    "                a = abs(list_x[i] - list_x[j])  # x 비용 계산\n",
    "                b = abs(list_y[i] - list_y[j])  # y 비용 계산\n",
    "                cost_x += a  \n",
    "                cost_y += b\n",
    "                \n",
    "    cost_x = cost_x // 2\n",
    "    cost_y = cost_y // 2\n",
    "    cost = cost_x + cost_y\n",
    "    \n",
    "    print(cost)"
   ]
  },
  {
   "cell_type": "code",
   "execution_count": null,
   "id": "72af5a58",
   "metadata": {},
   "outputs": [],
   "source": []
  }
 ],
 "metadata": {
  "kernelspec": {
   "display_name": "Python 3 (ipykernel)",
   "language": "python",
   "name": "python3"
  },
  "language_info": {
   "codemirror_mode": {
    "name": "ipython",
    "version": 3
   },
   "file_extension": ".py",
   "mimetype": "text/x-python",
   "name": "python",
   "nbconvert_exporter": "python",
   "pygments_lexer": "ipython3",
   "version": "3.9.16"
  }
 },
 "nbformat": 4,
 "nbformat_minor": 5
}
