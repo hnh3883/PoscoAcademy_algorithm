{
 "cells": [
  {
   "cell_type": "code",
   "execution_count": 1,
   "id": "81f4f44b",
   "metadata": {},
   "outputs": [],
   "source": [
    "# INF = float('inf')\n",
    "# T = int(input())\n",
    "# for _ in range(T):\n",
    "#     N,M = map(int, input().split())\n",
    "#     Matrix"
   ]
  },
  {
   "cell_type": "code",
   "execution_count": 5,
   "id": "05a35ce2",
   "metadata": {},
   "outputs": [
    {
     "name": "stdout",
     "output_type": "stream",
     "text": [
      "1\n",
      "4 4\n",
      "0 1 3\n",
      "0 2 4\n",
      "2 1 2\n",
      "1 3 1\n",
      "4\n"
     ]
    }
   ],
   "source": [
    "import heapq\n",
    "\n",
    "for t in range(int(input())):\n",
    "    n, m = map(int, input().split())\n",
    "    graph = [[]for _ in range(n)] # 인접 리스트 정의\n",
    "    for _ in range(m):\n",
    "        u, v, c = map(int, input().split()) # 출발 정점, 도착 정점, 가중치 입력\n",
    "        graph[u].append([v,c])  # 입력받은 정보를 인접리스트에 반영\n",
    "        \n",
    "    visit = [False]*n   # 정점의 방문 여부를 저장하는 리스트\n",
    "    dist = [-1]*n  # 0번 정점으로부터의 거리를 저장하는 리스트\n",
    "    hq = []    # 우선순위 큐에 사용할 리스트 초기화 \n",
    "    heapq.heappush(hq,(0,0))   # 0번 정점에서 0번 정점까지의 거리는 0, 0번 정점부터 시작 (순서 주의)\n",
    "    while len(hq) > 0:\n",
    "        d, u = heapq.heappop(hq)\n",
    "        if visit[u] == False:   #현재 정점이 아직 방문되지 않았다면 진행\n",
    "            visit[u] = True  # 현재 정점을 방문 처리\n",
    "            dist[u] = d   # 0번 정점에서 현재 정점까지의 거리를 기록\n",
    "            for i in graph[u]:  # 현재 정점에서 출발하는 간선들에 대해 처리\n",
    "                if visit[i[0]] == False :  # 간선의 도착 정점이 장분되지 않았으면 거리 계산\n",
    "                    heapq.heappush(hq, [d+i[1], i[0]])\n",
    "    print(dist[-1])  # 목표 정점까지의 거리를 출력 (도달 못할시에 -1 출력)"
   ]
  },
  {
   "cell_type": "code",
   "execution_count": null,
   "id": "8ff5eaf1",
   "metadata": {},
   "outputs": [],
   "source": []
  }
 ],
 "metadata": {
  "kernelspec": {
   "display_name": "Python 3 (ipykernel)",
   "language": "python",
   "name": "python3"
  },
  "language_info": {
   "codemirror_mode": {
    "name": "ipython",
    "version": 3
   },
   "file_extension": ".py",
   "mimetype": "text/x-python",
   "name": "python",
   "nbconvert_exporter": "python",
   "pygments_lexer": "ipython3",
   "version": "3.9.16"
  }
 },
 "nbformat": 4,
 "nbformat_minor": 5
}
