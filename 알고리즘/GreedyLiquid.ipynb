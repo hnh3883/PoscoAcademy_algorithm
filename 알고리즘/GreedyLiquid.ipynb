{
 "cells": [
  {
   "cell_type": "code",
   "execution_count": 4,
   "id": "9fe488f0",
   "metadata": {},
   "outputs": [
    {
     "name": "stdout",
     "output_type": "stream",
     "text": [
      "2\n",
      "4 100\n",
      "100 30\n",
      "50 30\n",
      "200 40\n",
      "120 55\n",
      "420\n",
      "5 340\n",
      "795 953\n",
      "41 206\n",
      "524 422\n",
      "985 574\n",
      "135 932\n",
      "985\n"
     ]
    }
   ],
   "source": [
    "# T = int(input())\n",
    "\n",
    "# for _ in range(T):\n",
    "#     N, C = map(int, input().split())\n",
    "#     liquidlist = []\n",
    "#     for i in range(N):\n",
    "#         w,v = map(int, input().split())\n",
    "#         liquidlist.append((w/v,w,v))\n",
    "#     liquidlist.sort(reverse=True)\n",
    "#     maxW = 0\n",
    "#     maxV = 0\n",
    "#     for i in range(N):\n",
    "#         if C > maxV :\n",
    "#             maxW += liquidlist[i][1]\n",
    "#             maxV += liquidlist[i][2]\n",
    "#     print(int(maxW))"
   ]
  },
  {
   "cell_type": "code",
   "execution_count": 2,
   "id": "03c291e7",
   "metadata": {},
   "outputs": [
    {
     "name": "stdout",
     "output_type": "stream",
     "text": [
      "2\n",
      "4 100\n",
      "100 30\n",
      "50 30\n",
      "200 40\n",
      "120 55\n",
      "365\n",
      "5 340\n",
      "795 953\n",
      "41 206\n",
      "524 422\n",
      "985 574\n",
      "135 932\n",
      "583\n"
     ]
    }
   ],
   "source": [
    "T = int(input())\n",
    "\n",
    "for _ in range(T):\n",
    "    N, C = map(int, input().split())\n",
    "    liquidlist = []\n",
    "    for i in range(N):\n",
    "        w,v = map(int, input().split())\n",
    "        liquidlist.append((w/v,w,v))\n",
    "    liquidlist.sort(reverse=True)\n",
    "    maxg = 0\n",
    "    for i in range(N):\n",
    "        if C >= liquidlist[i][2] :\n",
    "            maxg += liquidlist[i][1]\n",
    "            C -= liquidlist[i][2]          \n",
    "        else :\n",
    "            maxg += C*(liquidlist[i][0])\n",
    "            break\n",
    "    print(int(maxg))"
   ]
  },
  {
   "cell_type": "code",
   "execution_count": null,
   "id": "8ec58397",
   "metadata": {},
   "outputs": [],
   "source": []
  }
 ],
 "metadata": {
  "kernelspec": {
   "display_name": "Python 3 (ipykernel)",
   "language": "python",
   "name": "python3"
  },
  "language_info": {
   "codemirror_mode": {
    "name": "ipython",
    "version": 3
   },
   "file_extension": ".py",
   "mimetype": "text/x-python",
   "name": "python",
   "nbconvert_exporter": "python",
   "pygments_lexer": "ipython3",
   "version": "3.9.16"
  }
 },
 "nbformat": 4,
 "nbformat_minor": 5
}
