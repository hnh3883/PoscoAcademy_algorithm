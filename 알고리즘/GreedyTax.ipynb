{
 "cells": [
  {
   "cell_type": "code",
   "execution_count": 7,
   "id": "78b2c28e",
   "metadata": {},
   "outputs": [
    {
     "name": "stdout",
     "output_type": "stream",
     "text": [
      "1\n",
      "72510\n",
      "50000 원 : 1 개\n",
      "10000 원 : 2 개\n",
      "1000 원 : 2 개\n",
      "500 원 : 1 개\n",
      "총 동전 개수 : 6 개\n"
     ]
    }
   ],
   "source": [
    "# t = int(input())\n",
    "# for _ in range(t):\n",
    "#     n = int(input())\n",
    "#     coins = [50000, 10000, 5000, 1000, 500, 100]\n",
    "#     count = 0\n",
    "#     for i in coins:\n",
    "#         a = n // i\n",
    "#         if n // i > 0:\n",
    "#             n = n % i\n",
    "#             count += a \n",
    "#             print (i,\"원 :\" , a,  \"개\")\n",
    "#     print (\"총 동전 개수 :\", count ,\"개\")"
   ]
  },
  {
   "cell_type": "code",
   "execution_count": 6,
   "id": "8576c0ea",
   "metadata": {},
   "outputs": [
    {
     "name": "stdout",
     "output_type": "stream",
     "text": [
      "1\n",
      "72510\n",
      "6\n"
     ]
    }
   ],
   "source": [
    "t = int(input())\n",
    "for _ in range(t):\n",
    "    n = int(input())\n",
    "    coins = [50000, 10000, 5000, 1000, 500, 100]\n",
    "    coinnum = 0\n",
    "    for coin in coins:\n",
    "        coinnum += n // coin\n",
    "        n %= coin\n",
    "    print (coinnum)"
   ]
  },
  {
   "cell_type": "code",
   "execution_count": null,
   "id": "6bb93ee7",
   "metadata": {},
   "outputs": [],
   "source": []
  }
 ],
 "metadata": {
  "kernelspec": {
   "display_name": "Python 3 (ipykernel)",
   "language": "python",
   "name": "python3"
  },
  "language_info": {
   "codemirror_mode": {
    "name": "ipython",
    "version": 3
   },
   "file_extension": ".py",
   "mimetype": "text/x-python",
   "name": "python",
   "nbconvert_exporter": "python",
   "pygments_lexer": "ipython3",
   "version": "3.9.16"
  }
 },
 "nbformat": 4,
 "nbformat_minor": 5
}
