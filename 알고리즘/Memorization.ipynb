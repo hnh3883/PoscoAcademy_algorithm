{
 "cells": [
  {
   "cell_type": "code",
   "execution_count": 3,
   "id": "87b00571",
   "metadata": {},
   "outputs": [
    {
     "name": "stdout",
     "output_type": "stream",
     "text": [
      "2\n",
      "3 4\n",
      "4 0 0 0\n",
      "0 2 3 4\n",
      "1 3 5 2\n",
      "9\n",
      "3 5\n",
      "1 1 2 1 1\n",
      "1 2 1 2 1\n",
      "1 1 1 1 1\n",
      "5\n"
     ]
    }
   ],
   "source": [
    "for _ in range(int(input())):\n",
    "    n,m = map(int, input().split())\n",
    "    data = []\n",
    "    for i in range(n):\n",
    "        data.append(list(map(int,input().split())))\n",
    "    #T[i][j]: (0,0)에서 (i,j)에 도달했을 때 잃을 수 있는 최소 점수\n",
    "    T = [[0]*m for i in range(n)]\n",
    "    for i in range(n):\n",
    "        for j in range(m):\n",
    "            if i == 0 and j ==0:\n",
    "                T[i][j] = data[i][j]  # 시작 칸인 경우 : 시작 칸 점수\n",
    "            elif i == 0 : # 제일 위쪽 줄인 경우 왼쪽치로부터만 현재칸으로 이동 가능\n",
    "                T[i][j] = T[i][j-1] + data[i][j] \n",
    "            elif j == 0 :  # 제일 왼쪽 줄인 경우 위쪽으로부터만 현재칸으로 이동 가능\n",
    "                T[i][j] = T[i-1][j] + data[i][j]\n",
    "            else :  # 그 외의 일반적인 상화에서의 점화식\n",
    "                T[i][j] = min(T[i][j-1],T[i-1][j],T[i-1][j-1]) + data[i][j]\n",
    "    print(T[n-1][m-1])  # 답의 위치"
   ]
  },
  {
   "cell_type": "markdown",
   "id": "efb42ddb",
   "metadata": {},
   "source": []
  }
 ],
 "metadata": {
  "kernelspec": {
   "display_name": "Python 3 (ipykernel)",
   "language": "python",
   "name": "python3"
  },
  "language_info": {
   "codemirror_mode": {
    "name": "ipython",
    "version": 3
   },
   "file_extension": ".py",
   "mimetype": "text/x-python",
   "name": "python",
   "nbconvert_exporter": "python",
   "pygments_lexer": "ipython3",
   "version": "3.9.16"
  }
 },
 "nbformat": 4,
 "nbformat_minor": 5
}
