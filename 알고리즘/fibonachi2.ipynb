{
 "cells": [
  {
   "cell_type": "code",
   "execution_count": 3,
   "id": "3f3e83b3",
   "metadata": {},
   "outputs": [
    {
     "name": "stdout",
     "output_type": "stream",
     "text": [
      "5\n",
      "15\n"
     ]
    }
   ],
   "source": [
    "# # 1부터 N까지 합 구하기\n",
    "# N = int(input())\n",
    "\n",
    "# T = [0] * (N+1)\n",
    "\n",
    "# for i in range(1,N+1):\n",
    "#     if i == 1:\n",
    "#         T[i] = 1\n",
    "#     else :\n",
    "#         T[i] = i + T[i-1]\n",
    "# print(T[N])"
   ]
  },
  {
   "cell_type": "code",
   "execution_count": 5,
   "id": "10faf05d",
   "metadata": {},
   "outputs": [
    {
     "name": "stdout",
     "output_type": "stream",
     "text": [
      "6\n",
      "1\n",
      "1\n",
      "2\n",
      "1\n",
      "4\n",
      "3\n",
      "7\n",
      "13\n",
      "50\n",
      "12586269025\n",
      "200\n",
      "280571172992510140037611932413038677189525\n"
     ]
    }
   ],
   "source": [
    "t = int(input())\n",
    "\n",
    "for _ in range(t):\n",
    "    n = int(input())\n",
    "    fib = [0]*(n+1)\n",
    "    for i in range(1, n+1):\n",
    "        if i <= 2:\n",
    "            fib[i] = 1\n",
    "        else :\n",
    "            fib[i] = fib[i-1] + fib[i-2]\n",
    "    print(fib[n])"
   ]
  },
  {
   "cell_type": "code",
   "execution_count": null,
   "id": "ec9b1b00",
   "metadata": {},
   "outputs": [],
   "source": []
  }
 ],
 "metadata": {
  "kernelspec": {
   "display_name": "Python 3 (ipykernel)",
   "language": "python",
   "name": "python3"
  },
  "language_info": {
   "codemirror_mode": {
    "name": "ipython",
    "version": 3
   },
   "file_extension": ".py",
   "mimetype": "text/x-python",
   "name": "python",
   "nbconvert_exporter": "python",
   "pygments_lexer": "ipython3",
   "version": "3.9.16"
  }
 },
 "nbformat": 4,
 "nbformat_minor": 5
}
