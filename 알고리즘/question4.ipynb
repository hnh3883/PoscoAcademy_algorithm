{
 "cells": [
  {
   "cell_type": "code",
   "execution_count": 23,
   "id": "8e2ddb80",
   "metadata": {},
   "outputs": [
    {
     "name": "stdout",
     "output_type": "stream",
     "text": [
      "2\n",
      "10\n",
      "1 -1 2 7 3 -1 4 -1 5 -1\n",
      "1 3 4 5\n",
      "6\n",
      "3 4 2 1 5 -1\n",
      "5\n"
     ]
    }
   ],
   "source": [
    "t = int(input())\n",
    "for _ in range(t) :\n",
    "    stack = []\n",
    "    ans = []\n",
    "    dummy = int(input())\n",
    "    qry =list(map(int, input().split()))\n",
    "    for q in qry:\n",
    "        if q > 0 :\n",
    "            stack.append(q)\n",
    "        else:\n",
    "            ans.append(stack.pop())\n",
    "    print(*ans)"
   ]
  },
  {
   "cell_type": "code",
   "execution_count": null,
   "id": "a6fcd4bb",
   "metadata": {},
   "outputs": [],
   "source": []
  }
 ],
 "metadata": {
  "kernelspec": {
   "display_name": "Python 3 (ipykernel)",
   "language": "python",
   "name": "python3"
  },
  "language_info": {
   "codemirror_mode": {
    "name": "ipython",
    "version": 3
   },
   "file_extension": ".py",
   "mimetype": "text/x-python",
   "name": "python",
   "nbconvert_exporter": "python",
   "pygments_lexer": "ipython3",
   "version": "3.9.16"
  }
 },
 "nbformat": 4,
 "nbformat_minor": 5
}
