{
 "cells": [
  {
   "cell_type": "code",
   "execution_count": 2,
   "id": "1631c693",
   "metadata": {},
   "outputs": [
    {
     "name": "stdout",
     "output_type": "stream",
     "text": [
      "2\n",
      "1 -1 2 7 3 -1 4 -1 5 -1\n",
      "1 2 7 3\n",
      "3 4 2 1 5 -1\n",
      "3\n"
     ]
    }
   ],
   "source": [
    "import collections\n",
    "\n",
    "t = int(input())\n",
    "for _ in range(t):\n",
    "    queue = collections.deque([])\n",
    "    ans = []\n",
    "    dummy = int(input())\n",
    "    qry = list(map(int, input().split()))\n",
    "    for q in qry:\n",
    "        if q > 0 :\n",
    "            queue.append(q)\n",
    "        else:\n",
    "            ans.append(queue.popleft())\n",
    "    print(*ans)"
   ]
  },
  {
   "cell_type": "code",
   "execution_count": null,
   "id": "a64c9dcf",
   "metadata": {},
   "outputs": [],
   "source": []
  }
 ],
 "metadata": {
  "kernelspec": {
   "display_name": "Python 3 (ipykernel)",
   "language": "python",
   "name": "python3"
  },
  "language_info": {
   "codemirror_mode": {
    "name": "ipython",
    "version": 3
   },
   "file_extension": ".py",
   "mimetype": "text/x-python",
   "name": "python",
   "nbconvert_exporter": "python",
   "pygments_lexer": "ipython3",
   "version": "3.9.16"
  }
 },
 "nbformat": 4,
 "nbformat_minor": 5
}
