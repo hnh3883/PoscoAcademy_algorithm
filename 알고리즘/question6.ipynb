{
 "cells": [
  {
   "cell_type": "code",
   "execution_count": 14,
   "id": "a003a47c",
   "metadata": {},
   "outputs": [
    {
     "name": "stdout",
     "output_type": "stream",
     "text": [
      "2\n",
      "10\n",
      "1 -1 2 7 3 -1 4 -1 5 -1\n",
      "1 2 3 4\n",
      "6\n",
      "3 4 2 1 5 -1\n",
      "1\n"
     ]
    }
   ],
   "source": [
    "import collections\n",
    "import heapq \n",
    "\n",
    "t = int(input())\n",
    "for _ in range(t):\n",
    "    queue = collections.deque([])\n",
    "    hq = []\n",
    "    ans = []\n",
    "    dummy = int(input())\n",
    "    qry = list(map(int, input().split()))\n",
    "    for q in qry:\n",
    "        if q > 0 :\n",
    "            heapq.heappush(hq, q)\n",
    "        else:\n",
    "            ans.append(heapq.heappop(hq))\n",
    "    print(*ans)"
   ]
  },
  {
   "cell_type": "code",
   "execution_count": null,
   "id": "ab07d697",
   "metadata": {},
   "outputs": [],
   "source": []
  }
 ],
 "metadata": {
  "kernelspec": {
   "display_name": "Python 3 (ipykernel)",
   "language": "python",
   "name": "python3"
  },
  "language_info": {
   "codemirror_mode": {
    "name": "ipython",
    "version": 3
   },
   "file_extension": ".py",
   "mimetype": "text/x-python",
   "name": "python",
   "nbconvert_exporter": "python",
   "pygments_lexer": "ipython3",
   "version": "3.9.16"
  }
 },
 "nbformat": 4,
 "nbformat_minor": 5
}
